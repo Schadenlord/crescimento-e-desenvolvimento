{
 "cells": [
  {
   "cell_type": "markdown",
   "metadata": {},
   "source": [
    "### Instalando as bibliotecas usadas no trabalho"
   ]
  },
  {
   "cell_type": "code",
   "execution_count": 2,
   "metadata": {},
   "outputs": [
    {
     "name": "stdout",
     "output_type": "stream",
     "text": [
      "Note: you may need to restart the kernel to use updated packages.\n"
     ]
    }
   ],
   "source": [
    "%pip install -q -r requirements.txt"
   ]
  },
  {
   "cell_type": "markdown",
   "metadata": {},
   "source": [
    "#### Arrumando o ambiente"
   ]
  },
  {
   "cell_type": "code",
   "execution_count": 3,
   "metadata": {},
   "outputs": [],
   "source": [
    "import pandas as pd\n",
    "import numpy as np\n",
    "import matplotlib.pyplot as plt\n",
    "\n",
    "## Bibliotecas de econometria\n",
    "import statsmodels.api as sm"
   ]
  },
  {
   "cell_type": "code",
   "execution_count": 6,
   "metadata": {},
   "outputs": [
    {
     "data": {
      "text/plain": [
       "['data_politicians_short.dta',\n",
       " 'patents_ITfirms.dta',\n",
       " 'data_reelection_incumbent.dta']"
      ]
     },
     "execution_count": 6,
     "metadata": {},
     "output_type": "execute_result"
    }
   ],
   "source": [
    "## Pegando todos os .dta da pasta data\n",
    "import os\n",
    "data_files = os.listdir('data')\n",
    "data_files = [file for file in data_files if file.endswith('.dta')]\n",
    "data_files"
   ]
  },
  {
   "cell_type": "markdown",
   "metadata": {},
   "source": [
    "##### lendo os arquivos e colocando em dfs diferentes com o nome do arquivo\n"
   ]
  },
  {
   "cell_type": "code",
   "execution_count": 9,
   "metadata": {},
   "outputs": [
    {
     "name": "stderr",
     "output_type": "stream",
     "text": [
      "/tmp/ipykernel_8529/3317963821.py:3: UnicodeWarning: \n",
      "One or more strings in the dta file could not be decoded using utf-8, and\n",
      "so the fallback encoding of latin-1 is being used.  This can happen when a file\n",
      "has been incorrectly encoded by Stata or some other software. You should verify\n",
      "the string values returned are correct.\n",
      "  data_politicians_short = pd.read_stata('data/data_politicians_short.dta')\n"
     ]
    },
    {
     "data": {
      "text/html": [
       "<div>\n",
       "<style scoped>\n",
       "    .dataframe tbody tr th:only-of-type {\n",
       "        vertical-align: middle;\n",
       "    }\n",
       "\n",
       "    .dataframe tbody tr th {\n",
       "        vertical-align: top;\n",
       "    }\n",
       "\n",
       "    .dataframe thead th {\n",
       "        text-align: right;\n",
       "    }\n",
       "</style>\n",
       "<table border=\"1\" class=\"dataframe\">\n",
       "  <thead>\n",
       "    <tr style=\"text-align: right;\">\n",
       "      <th></th>\n",
       "      <th>codice_fiscale</th>\n",
       "      <th>year</th>\n",
       "      <th>cat_area</th>\n",
       "      <th>cat_pos</th>\n",
       "      <th>maj</th>\n",
       "    </tr>\n",
       "  </thead>\n",
       "  <tbody>\n",
       "    <tr>\n",
       "      <th>0</th>\n",
       "      <td>AIOLRY84M03B107Z</td>\n",
       "      <td>2012</td>\n",
       "      <td>comune</td>\n",
       "      <td>4</td>\n",
       "      <td>1.0</td>\n",
       "    </tr>\n",
       "    <tr>\n",
       "      <th>1</th>\n",
       "      <td>AIOLRY84M03B107Z</td>\n",
       "      <td>2013</td>\n",
       "      <td>comune</td>\n",
       "      <td>4</td>\n",
       "      <td>1.0</td>\n",
       "    </tr>\n",
       "    <tr>\n",
       "      <th>2</th>\n",
       "      <td>AIOLRY84M03B107Z</td>\n",
       "      <td>2014</td>\n",
       "      <td>comune</td>\n",
       "      <td>4</td>\n",
       "      <td>1.0</td>\n",
       "    </tr>\n",
       "    <tr>\n",
       "      <th>3</th>\n",
       "      <td>AIOMNA47L14C498R</td>\n",
       "      <td>1999</td>\n",
       "      <td>comune</td>\n",
       "      <td>4</td>\n",
       "      <td>1.0</td>\n",
       "    </tr>\n",
       "    <tr>\n",
       "      <th>4</th>\n",
       "      <td>AIOMNA47L14C498R</td>\n",
       "      <td>2000</td>\n",
       "      <td>comune</td>\n",
       "      <td>4</td>\n",
       "      <td>1.0</td>\n",
       "    </tr>\n",
       "  </tbody>\n",
       "</table>\n",
       "</div>"
      ],
      "text/plain": [
       "     codice_fiscale  year cat_area  cat_pos  maj\n",
       "0  AIOLRY84M03B107Z  2012   comune        4  1.0\n",
       "1  AIOLRY84M03B107Z  2013   comune        4  1.0\n",
       "2  AIOLRY84M03B107Z  2014   comune        4  1.0\n",
       "3  AIOMNA47L14C498R  1999   comune        4  1.0\n",
       "4  AIOMNA47L14C498R  2000   comune        4  1.0"
      ]
     },
     "execution_count": 9,
     "metadata": {},
     "output_type": "execute_result"
    }
   ],
   "source": [
    "### data_politicians_short.dta\n",
    "\n",
    "data_politicians_short = pd.read_stata('data/data_politicians_short.dta')\n",
    "\n",
    "data_politicians_short.head()\n"
   ]
  },
  {
   "cell_type": "code",
   "execution_count": 10,
   "metadata": {},
   "outputs": [
    {
     "data": {
      "text/html": [
       "<div>\n",
       "<style scoped>\n",
       "    .dataframe tbody tr th:only-of-type {\n",
       "        vertical-align: middle;\n",
       "    }\n",
       "\n",
       "    .dataframe tbody tr th {\n",
       "        vertical-align: top;\n",
       "    }\n",
       "\n",
       "    .dataframe thead th {\n",
       "        text-align: right;\n",
       "    }\n",
       "</style>\n",
       "<table border=\"1\" class=\"dataframe\">\n",
       "  <thead>\n",
       "    <tr style=\"text-align: right;\">\n",
       "      <th></th>\n",
       "      <th>codice_fiscale</th>\n",
       "      <th>year</th>\n",
       "      <th>docdb_family_id</th>\n",
       "      <th>docdb_family_size</th>\n",
       "      <th>ipc_family</th>\n",
       "      <th>granted_family</th>\n",
       "      <th>claims_family</th>\n",
       "      <th>ncit</th>\n",
       "      <th>ncit_5yr</th>\n",
       "      <th>ncit_app</th>\n",
       "      <th>ncit_app_5yr</th>\n",
       "    </tr>\n",
       "  </thead>\n",
       "  <tbody>\n",
       "    <tr>\n",
       "      <th>0</th>\n",
       "      <td>0000000001640242</td>\n",
       "      <td>1999</td>\n",
       "      <td>11427136</td>\n",
       "      <td>2</td>\n",
       "      <td>H02K</td>\n",
       "      <td>0</td>\n",
       "      <td>13</td>\n",
       "      <td>1</td>\n",
       "      <td>0</td>\n",
       "      <td>0</td>\n",
       "      <td>0</td>\n",
       "    </tr>\n",
       "    <tr>\n",
       "      <th>1</th>\n",
       "      <td>0000000001650282</td>\n",
       "      <td>2007</td>\n",
       "      <td>38984233</td>\n",
       "      <td>6</td>\n",
       "      <td>B60J</td>\n",
       "      <td>1</td>\n",
       "      <td>12</td>\n",
       "      <td>0</td>\n",
       "      <td>0</td>\n",
       "      <td>0</td>\n",
       "      <td>0</td>\n",
       "    </tr>\n",
       "    <tr>\n",
       "      <th>2</th>\n",
       "      <td>0000000001650282</td>\n",
       "      <td>2007</td>\n",
       "      <td>39345243</td>\n",
       "      <td>4</td>\n",
       "      <td>B29C</td>\n",
       "      <td>1</td>\n",
       "      <td>13</td>\n",
       "      <td>6</td>\n",
       "      <td>5</td>\n",
       "      <td>0</td>\n",
       "      <td>0</td>\n",
       "    </tr>\n",
       "    <tr>\n",
       "      <th>3</th>\n",
       "      <td>0000000001650282</td>\n",
       "      <td>2009</td>\n",
       "      <td>41394119</td>\n",
       "      <td>2</td>\n",
       "      <td>B29C</td>\n",
       "      <td>1</td>\n",
       "      <td>15</td>\n",
       "      <td>0</td>\n",
       "      <td>0</td>\n",
       "      <td>0</td>\n",
       "      <td>0</td>\n",
       "    </tr>\n",
       "    <tr>\n",
       "      <th>4</th>\n",
       "      <td>0000000001650282</td>\n",
       "      <td>2009</td>\n",
       "      <td>41682453</td>\n",
       "      <td>7</td>\n",
       "      <td>B29C</td>\n",
       "      <td>1</td>\n",
       "      <td>14</td>\n",
       "      <td>0</td>\n",
       "      <td>0</td>\n",
       "      <td>0</td>\n",
       "      <td>0</td>\n",
       "    </tr>\n",
       "  </tbody>\n",
       "</table>\n",
       "</div>"
      ],
      "text/plain": [
       "     codice_fiscale  year  docdb_family_id  docdb_family_size ipc_family  \\\n",
       "0  0000000001640242  1999         11427136                  2       H02K   \n",
       "1  0000000001650282  2007         38984233                  6       B60J   \n",
       "2  0000000001650282  2007         39345243                  4       B29C   \n",
       "3  0000000001650282  2009         41394119                  2       B29C   \n",
       "4  0000000001650282  2009         41682453                  7       B29C   \n",
       "\n",
       "   granted_family  claims_family  ncit  ncit_5yr  ncit_app  ncit_app_5yr  \n",
       "0               0             13     1         0         0             0  \n",
       "1               1             12     0         0         0             0  \n",
       "2               1             13     6         5         0             0  \n",
       "3               1             15     0         0         0             0  \n",
       "4               1             14     0         0         0             0  "
      ]
     },
     "execution_count": 10,
     "metadata": {},
     "output_type": "execute_result"
    }
   ],
   "source": [
    "### patents_ITfirms.dta\n",
    "\n",
    "patents_ITfirms = pd.read_stata('data/patents_ITfirms.dta')\n",
    "\n",
    "patents_ITfirms.head()"
   ]
  },
  {
   "cell_type": "code",
   "execution_count": 11,
   "metadata": {},
   "outputs": [
    {
     "data": {
      "text/html": [
       "<div>\n",
       "<style scoped>\n",
       "    .dataframe tbody tr th:only-of-type {\n",
       "        vertical-align: middle;\n",
       "    }\n",
       "\n",
       "    .dataframe tbody tr th {\n",
       "        vertical-align: top;\n",
       "    }\n",
       "\n",
       "    .dataframe thead th {\n",
       "        text-align: right;\n",
       "    }\n",
       "</style>\n",
       "<table border=\"1\" class=\"dataframe\">\n",
       "  <thead>\n",
       "    <tr style=\"text-align: right;\">\n",
       "      <th></th>\n",
       "      <th>comune_desc</th>\n",
       "      <th>prov_cod</th>\n",
       "      <th>prov_desc</th>\n",
       "      <th>reg_cod</th>\n",
       "      <th>reg_desc</th>\n",
       "      <th>year</th>\n",
       "      <th>num_contestants</th>\n",
       "      <th>margin_spread</th>\n",
       "      <th>reelection</th>\n",
       "      <th>region</th>\n",
       "      <th>loser_previnc</th>\n",
       "      <th>province</th>\n",
       "      <th>comune</th>\n",
       "    </tr>\n",
       "  </thead>\n",
       "  <tbody>\n",
       "    <tr>\n",
       "      <th>0</th>\n",
       "      <td></td>\n",
       "      <td>1.0</td>\n",
       "      <td>AGRIGENTO</td>\n",
       "      <td>19</td>\n",
       "      <td>SICILIA</td>\n",
       "      <td>1998</td>\n",
       "      <td>4.0</td>\n",
       "      <td>0.060600</td>\n",
       "      <td>0.0</td>\n",
       "      <td>NaN</td>\n",
       "      <td>0.0</td>\n",
       "      <td>1.0</td>\n",
       "      <td>NaN</td>\n",
       "    </tr>\n",
       "    <tr>\n",
       "      <th>1</th>\n",
       "      <td></td>\n",
       "      <td>1.0</td>\n",
       "      <td>AGRIGENTO</td>\n",
       "      <td>19</td>\n",
       "      <td>SICILIA</td>\n",
       "      <td>1994</td>\n",
       "      <td>2.0</td>\n",
       "      <td>0.024000</td>\n",
       "      <td>NaN</td>\n",
       "      <td>NaN</td>\n",
       "      <td>NaN</td>\n",
       "      <td>1.0</td>\n",
       "      <td>NaN</td>\n",
       "    </tr>\n",
       "    <tr>\n",
       "      <th>2</th>\n",
       "      <td></td>\n",
       "      <td>1.0</td>\n",
       "      <td>AGRIGENTO</td>\n",
       "      <td>19</td>\n",
       "      <td>SICILIA</td>\n",
       "      <td>2003</td>\n",
       "      <td>5.0</td>\n",
       "      <td>0.177700</td>\n",
       "      <td>1.0</td>\n",
       "      <td>NaN</td>\n",
       "      <td>0.0</td>\n",
       "      <td>1.0</td>\n",
       "      <td>NaN</td>\n",
       "    </tr>\n",
       "    <tr>\n",
       "      <th>3</th>\n",
       "      <td>ARAGONA</td>\n",
       "      <td>1.0</td>\n",
       "      <td>AGRIGENTO</td>\n",
       "      <td>19</td>\n",
       "      <td>SICILIA</td>\n",
       "      <td>2002</td>\n",
       "      <td>4.0</td>\n",
       "      <td>0.245471</td>\n",
       "      <td>1.0</td>\n",
       "      <td>NaN</td>\n",
       "      <td>0.0</td>\n",
       "      <td>NaN</td>\n",
       "      <td>1.0</td>\n",
       "    </tr>\n",
       "    <tr>\n",
       "      <th>4</th>\n",
       "      <td>LICATA</td>\n",
       "      <td>1.0</td>\n",
       "      <td>AGRIGENTO</td>\n",
       "      <td>19</td>\n",
       "      <td>SICILIA</td>\n",
       "      <td>2003</td>\n",
       "      <td>6.0</td>\n",
       "      <td>0.369321</td>\n",
       "      <td>0.0</td>\n",
       "      <td>NaN</td>\n",
       "      <td>0.0</td>\n",
       "      <td>NaN</td>\n",
       "      <td>1.0</td>\n",
       "    </tr>\n",
       "  </tbody>\n",
       "</table>\n",
       "</div>"
      ],
      "text/plain": [
       "  comune_desc  prov_cod  prov_desc  reg_cod reg_desc  year  num_contestants  \\\n",
       "0                   1.0  AGRIGENTO       19  SICILIA  1998              4.0   \n",
       "1                   1.0  AGRIGENTO       19  SICILIA  1994              2.0   \n",
       "2                   1.0  AGRIGENTO       19  SICILIA  2003              5.0   \n",
       "3     ARAGONA       1.0  AGRIGENTO       19  SICILIA  2002              4.0   \n",
       "4      LICATA       1.0  AGRIGENTO       19  SICILIA  2003              6.0   \n",
       "\n",
       "   margin_spread  reelection  region  loser_previnc  province  comune  \n",
       "0       0.060600         0.0     NaN            0.0       1.0     NaN  \n",
       "1       0.024000         NaN     NaN            NaN       1.0     NaN  \n",
       "2       0.177700         1.0     NaN            0.0       1.0     NaN  \n",
       "3       0.245471         1.0     NaN            0.0       NaN     1.0  \n",
       "4       0.369321         0.0     NaN            0.0       NaN     1.0  "
      ]
     },
     "execution_count": 11,
     "metadata": {},
     "output_type": "execute_result"
    }
   ],
   "source": [
    "### data_reelection_incumbent.dta\n",
    "\n",
    "data_reelection_incumbent = pd.read_stata('data/data_reelection_incumbent.dta')\n",
    "\n",
    "data_reelection_incumbent.head()\n"
   ]
  },
  {
   "cell_type": "markdown",
   "metadata": {},
   "source": []
  },
  {
   "cell_type": "code",
   "execution_count": 14,
   "metadata": {},
   "outputs": [
    {
     "data": {
      "text/plain": [
       "['wagepremium.do',\n",
       " 'descr_factiva_bur_conn.do',\n",
       " 'regs_figs_rd.do',\n",
       " 'sumstats_politicians_all.do',\n",
       " 'govdep_conn_correlate.do',\n",
       " 'stats_firmlevel.do',\n",
       " 'stats_polits_nonpolits.do',\n",
       " 'regs_rd_new_old_pols.do',\n",
       " 'regs_survival.do',\n",
       " 'fullprogram_estimation.do',\n",
       " 'regs_bur_corru_reg.do',\n",
       " 'regs_indreglevel.do',\n",
       " 'sumstat_patents.do',\n",
       " 'distrib_winlose_elec.do',\n",
       " 'regs_firm_level.do',\n",
       " 'regs_rd_stay_t.do',\n",
       " 'reelection_prob.do',\n",
       " 'innov_conn_rank.do',\n",
       " 'stats_politsample.do',\n",
       " 'regs_rd_otheroutcomes.do',\n",
       " 'regs_crossborder_analysis.do']"
      ]
     },
     "execution_count": 14,
     "metadata": {},
     "output_type": "execute_result"
    }
   ],
   "source": [
    "#### Juntando todos os codigos do-file em um arquivo único de txt\n",
    "##### os do-files estão na pasta crescimento-e-desenvolvimento/analise/do_Estimation\n",
    "\n",
    "do_files = os.listdir('do_Estimation')\n",
    "do_files = [file for file in do_files if file.endswith('.do')]\n",
    "do_files\n",
    "\n"
   ]
  },
  {
   "cell_type": "code",
   "execution_count": 15,
   "metadata": {},
   "outputs": [],
   "source": [
    "## colocando todos os do-files em um único arquivo\n",
    "with open('do_Estimation/estimation.do', 'w') as outfile:\n",
    "    for fname in do_files:\n",
    "        with open('do_Estimation/' + fname) as infile:\n",
    "            for line in infile:\n",
    "                outfile.write(line)"
   ]
  }
 ],
 "metadata": {
  "kernelspec": {
   "display_name": "Python 3",
   "language": "python",
   "name": "python3"
  },
  "language_info": {
   "codemirror_mode": {
    "name": "ipython",
    "version": 3
   },
   "file_extension": ".py",
   "mimetype": "text/x-python",
   "name": "python",
   "nbconvert_exporter": "python",
   "pygments_lexer": "ipython3",
   "version": "3.8.10"
  }
 },
 "nbformat": 4,
 "nbformat_minor": 2
}
